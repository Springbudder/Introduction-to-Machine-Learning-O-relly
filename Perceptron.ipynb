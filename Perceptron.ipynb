{
 "cells": [
  {
   "cell_type": "code",
   "execution_count": 1,
   "metadata": {
    "collapsed": false
   },
   "outputs": [
    {
     "name": "stdout",
     "output_type": "stream",
     "text": [
      "Populating the interactive namespace from numpy and matplotlib\n"
     ]
    }
   ],
   "source": [
    "import numpy as np\n",
    "import pandas as pd\n",
    "import matplotlib.pyplot as plt\n",
    "from matplotlib import style\n",
    "style.use(\"ggplot\")\n",
    "%pylab inline"
   ]
  },
  {
   "cell_type": "code",
   "execution_count": 50,
   "metadata": {
    "collapsed": true
   },
   "outputs": [],
   "source": [
    "class Perceptron(object):\n",
    "    \"\"\"\n",
    "    Perceptron classifier.\n",
    "    \n",
    "    \n",
    "    Parameters\n",
    "    ---------------------------\n",
    "    eta: float\n",
    "        Learning rate (between 0.0 and 1.0)\n",
    "        \n",
    "    n_iter: int\n",
    "        Passes over the traning dataset\n",
    "        \n",
    "        \n",
    "        \n",
    "    Attributes    \n",
    "    ---------------------------\n",
    "    w_: 1d-array\n",
    "        Weights after fitting\n",
    "    \n",
    "    errors_: list\n",
    "        Number of misclassification in every epoch\n",
    "    \n",
    "    \"\"\"\n",
    "    \n",
    "    def __init__(self, eta = 0.01, n_iter = 10):\n",
    "        self.eta = eta\n",
    "        self.n_iter = n_iter\n",
    "        \n",
    "    def fit(self, X, y):       \n",
    "        \"\"\"\n",
    "        fit the traning data\n",
    "        \n",
    "        Parameters\n",
    "        ----------------------------\n",
    "        X: {array-like}, shape = [n_sample, n_features]\n",
    "            Training vectors, where n_samples is the number of samples and \n",
    "            n_features is the number of features\n",
    "            \n",
    "        y: array-like, shape = [n_samples]\n",
    "            Target values.\n",
    "            \n",
    "            \n",
    "        Returns\n",
    "        ----------------------------\n",
    "        self: object\n",
    "        \n",
    "        \"\"\"\n",
    "        self.w_ = np.zeros(1 + X.shape[1])\n",
    "        self.errors_ = []\n",
    "        \n",
    "        for _ in range(self.n_iter):\n",
    "            errors = 0\n",
    "            for xi, target in zip(X, y):\n",
    "                update = self.eta * (target - self.predict(xi))\n",
    "                self.w_[1:] += update * xi\n",
    "                self.w_[0] += update\n",
    "                errors += int(update != 0.0)\n",
    "                \n",
    "            self.errors_.append(errors)    \n",
    "        return self\n",
    "    \n",
    "    def net_input(self, X):\n",
    "        \"\"\"\n",
    "        Calculate net input\n",
    "        \"\"\"\n",
    "        return np.dot(X, self.w_[1:] + self.w_[0])\n",
    "    \n",
    "    def predict(self, X):\n",
    "        \"\"\"\n",
    "        Return class label after unit step\n",
    "        \"\"\"\n",
    "        return np.where(self.net_input(X) >= 0.0, 1, -1)"
   ]
  },
  {
   "cell_type": "code",
   "execution_count": 49,
   "metadata": {
    "collapsed": false
   },
   "outputs": [
    {
     "data": {
      "text/plain": [
       "<matplotlib.legend.Legend at 0xc509a58>"
      ]
     },
     "execution_count": 49,
     "metadata": {},
     "output_type": "execute_result"
    },
    {
     "data": {
      "image/png": "[encoded data removed]",
      "text/plain": [
       "<matplotlib.figure.Figure at 0xc181eb8>"
      ]
     },
     "metadata": {},
     "output_type": "display_data"
    }
   ],
   "source": [
    "df = pd.read_csv('https://archive.ics.uci.edu/ml/machine-learning-databases/iris/iris.data', header = None)\n",
    "\n",
    "y = df.iloc[0:100, 4].values\n",
    "\n",
    "y = np.where(y == \"Iris-setosa\", -1, 1)\n",
    "\n",
    "X = df.iloc[0:100, [0, 2]].values\n",
    "\n",
    "plt.scatter(X[:50, 0], X[:50, 1], color = \"red\", marker = 'o', label = 'setosa')\n",
    "plt.scatter(X[50:100, 0], X[50:100, 1], color = \"blue\", marker = 'x', label = 'versicolor')\n",
    "\n",
    "plt.xlabel('petal length')\n",
    "plt.ylabel('sepal length')\n",
    "plt.legend(loc = 'upper left')"
   ]
  },
  {
   "cell_type": "code",
   "execution_count": 52,
   "metadata": {
    "collapsed": false
   },
   "outputs": [
    {
     "name": "stdout",
     "output_type": "stream",
     "text": [
      "\n",
      "        fit the traning data\n",
      "        \n",
      "        Parameters\n",
      "        ----------------------------\n",
      "        X: {array-like}, shape = [n_sample, n_features]\n",
      "            Training vectors, where n_samples is the number of samples and \n",
      "            n_features is the number of features\n",
      "            \n",
      "        y: array-like, shape = [n_samples]\n",
      "            Target values.\n",
      "            \n",
      "            \n",
      "        Returns\n",
      "        ----------------------------\n",
      "        self: object\n",
      "        \n",
      "        \n"
     ]
    }
   ],
   "source": [
    "print Perceptron.fit.__doc__"
   ]
  },
  {
   "cell_type": "code",
   "execution_count": 60,
   "metadata": {
    "collapsed": false
   },
   "outputs": [
    {
     "data": {
      "text/plain": [
       "<matplotlib.text.Text at 0xdfd6e48>"
      ]
     },
     "execution_count": 60,
     "metadata": {},
     "output_type": "execute_result"
    },
    {
     "data": {
      "image/png": "[encoded data removed]",
      "text/plain": [
       "<matplotlib.figure.Figure at 0xdfc0b00>"
      ]
     },
     "metadata": {},
     "output_type": "display_data"
    }
   ],
   "source": [
    "ppn = Perceptron(eta = 0.1, n_iter = 10)\n",
    "\n",
    "ppn.fit(X, y)\n",
    "\n",
    "plt.figure(figsize = (10, 5))\n",
    "plt.plot(range(1, len(ppn.errors_) + 1), ppn.errors_, marker = 'o')\n",
    "plt.ylim = (0.0, 5.0)\n",
    "plt.xlabel(\"Epochs\")\n",
    "plt.ylabel(\"Number of misclassifications\")\n"
   ]
  },
  {
   "cell_type": "code",
   "execution_count": 111,
   "metadata": {
    "collapsed": false
   },
   "outputs": [
    {
     "data": {
      "text/plain": [
       "<matplotlib.legend.Legend at 0x125c6f28>"
      ]
     },
     "execution_count": 111,
     "metadata": {},
     "output_type": "execute_result"
    },
    {
     "data": {
      "image/png": "[encoded data removed]",
      "text/plain": [
       "<matplotlib.figure.Figure at 0xd8d8278>"
      ]
     },
     "metadata": {},
     "output_type": "display_data"
    }
   ],
   "source": [
    "from matplotlib.colors import ListedColormap\n",
    "import matplotlib.pyplot as plt\n",
    "\n",
    "def plot_decision_regions(X, y, classifier, resolution = 0.02):\n",
    "    \"\"\"\n",
    "    plot the colored map of dicision regions\n",
    "\n",
    "\n",
    "    Parameters\n",
    "    ----------------------------------\n",
    "    X: pd.DataFrame, shape = [n_samples, n_features]\n",
    "        Input data\n",
    "\n",
    "    y: int\n",
    "        Target value\n",
    "\n",
    "    classifier: Perceptron\n",
    "        Classifier used\n",
    "\n",
    "    resolution: float\n",
    "        width of each grid meshgird function generated\n",
    "\n",
    "    Return\n",
    "    -----------------------------------\n",
    "    plt figure\n",
    "\n",
    "    \"\"\"\n",
    "\n",
    "    markers = ('s', 'x', 'o', '^', 'v')\n",
    "    colors = ('red', 'blue', 'lightgreen', 'gray', 'cyan')\n",
    "    cmap = ListedColormap(colors[:len(np.unique(y))])\n",
    "\n",
    "    x1_min, x1_max = X[:, 0].min() - 1, X[:, 0].max() + 1\n",
    "    x2_min, x2_max = X[:, 1].min() - 1, X[:, 1].max() + 1\n",
    "    \n",
    "    xx1, xx2 = np.meshgrid(np.arange(x1_min, x1_max, resolution), np.arange(x2_min, x2_max, resolution))\n",
    "    \n",
    "    Z = classifier.predict(np.array([xx1.ravel(), xx2.ravel()]).T)\n",
    "    Z = Z.reshape(xx1.shape)\n",
    "    \n",
    "    plt.contourf(xx1, xx2, Z, alpha = 0.4, cmap = cmap)\n",
    "    #plt.xlim(3.3, 7.98)\n",
    "    #plt.ylim(0.0, 6.08)\n",
    "    \n",
    "    ### plot class samples\n",
    "    for idx, cl in enumerate(np.unique(y)):\n",
    "        plt.scatter(x       = X[y == cl, 0], \n",
    "                    y       = X[y == cl, 1], \n",
    "                    alpha   = 0.8, \n",
    "                    c       = cmap(idx), \n",
    "                    marker  = markers[idx],\n",
    "                    label   = cl)\n",
    "\n",
    "plot_decision_regions(X, y, classifier = ppn)\n",
    "plt.xlabel(\"sepal length [cm]\")\n",
    "plt.ylabel(\"petal length [cm]\")\n",
    "plt.legend(loc = \"upper left\")"
   ]
  },
  {
   "cell_type": "code",
   "execution_count": null,
   "metadata": {
    "collapsed": true
   },
   "outputs": [],
   "source": []
  }
 ],
 "metadata": {
  "anaconda-cloud": {},
  "kernelspec": {
   "display_name": "Python [Root]",
   "language": "python",
   "name": "Python [Root]"
  },
  "language_info": {
   "codemirror_mode": {
    "name": "ipython",
    "version": 2
   },
   "file_extension": ".py",
   "mimetype": "text/x-python",
   "name": "python",
   "nbconvert_exporter": "python",
   "pygments_lexer": "ipython2",
   "version": "2.7.12"
  }
 },
 "nbformat": 4,
 "nbformat_minor": 0
}
